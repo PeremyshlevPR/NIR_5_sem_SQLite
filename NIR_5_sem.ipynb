{
 "cells": [
  {
   "cell_type": "markdown",
   "id": "3735d7d4",
   "metadata": {},
   "source": [
    "# Этап 1 НИР. Работа с данными SQLite  в   программах   на языке Python"
   ]
  },
  {
   "cell_type": "markdown",
   "id": "89ef6254",
   "metadata": {},
   "source": [
    "### 4.1. Подготовительные операции"
   ]
  },
  {
   "cell_type": "code",
   "execution_count": null,
   "id": "52172873",
   "metadata": {},
   "outputs": [],
   "source": [
    "import sqlite3"
   ]
  },
  {
   "cell_type": "markdown",
   "id": "d53ff9c6",
   "metadata": {},
   "source": [
    "### 4.2. Создание БД bd1.sqlite с 2 таблицами: stud и sessija"
   ]
  },
  {
   "cell_type": "code",
   "execution_count": 8,
   "id": "5c4d0d11",
   "metadata": {},
   "outputs": [],
   "source": [
    "con = sqlite3.connect('bd1.sqlite')"
   ]
  },
  {
   "cell_type": "code",
   "execution_count": 9,
   "id": "72b11fd7",
   "metadata": {},
   "outputs": [],
   "source": [
    "cur = con.cursor()"
   ]
  },
  {
   "cell_type": "code",
   "execution_count": 39,
   "id": "098bb3ac",
   "metadata": {},
   "outputs": [],
   "source": [
    "sql = \"\"\"\\\n",
    "CREATE TABLE stud (id TEXT PRIMARY KEY,\n",
    "fio TEXT, email TEXT);\n",
    "CREATE TABLE sessija (id TEXT SECONDARY KEY,\n",
    "Disz TEXT, Prepod TEXT, Ozenka INTEGER, Dat TEXT)\"\"\""
   ]
  },
  {
   "cell_type": "code",
   "execution_count": 40,
   "id": "c8388d95",
   "metadata": {},
   "outputs": [
    {
     "ename": "OperationalError",
     "evalue": "table stud already exists",
     "output_type": "error",
     "traceback": [
      "\u001b[1;31m---------------------------------------------------------------------------\u001b[0m",
      "\u001b[1;31mOperationalError\u001b[0m                          Traceback (most recent call last)",
      "Input \u001b[1;32mIn [40]\u001b[0m, in \u001b[0;36m<cell line: 1>\u001b[1;34m()\u001b[0m\n\u001b[1;32m----> 1\u001b[0m \u001b[43mcur\u001b[49m\u001b[38;5;241;43m.\u001b[39;49m\u001b[43mexecutescript\u001b[49m\u001b[43m(\u001b[49m\u001b[43msql\u001b[49m\u001b[43m)\u001b[49m\n",
      "\u001b[1;31mOperationalError\u001b[0m: table stud already exists"
     ]
    }
   ],
   "source": [
    "cur.executescript(sql)"
   ]
  },
  {
   "cell_type": "code",
   "execution_count": 11,
   "id": "48c1cd62",
   "metadata": {},
   "outputs": [],
   "source": [
    "cur.close()\n",
    "con.close()"
   ]
  },
  {
   "cell_type": "markdown",
   "id": "46296cf3",
   "metadata": {},
   "source": [
    "### 4.3. Запись данных в таблицы stud и sessija"
   ]
  },
  {
   "cell_type": "code",
   "execution_count": 27,
   "id": "d65d79ea",
   "metadata": {},
   "outputs": [],
   "source": [
    "con = sqlite3.connect('bd1.sqlite')\n",
    "\n",
    "cur = con.cursor()"
   ]
  },
  {
   "cell_type": "code",
   "execution_count": 30,
   "id": "aa933aa9",
   "metadata": {},
   "outputs": [],
   "source": [
    "sql = \"\"\"\\\n",
    "INSERT INTO stud (id, fio, email) VALUES (20202343, 'ПЕРЕМЫШЛЕВ П.П.',\n",
    "'peremyshlevpr@mpei.ru')\"\"\""
   ]
  },
  {
   "cell_type": "code",
   "execution_count": 31,
   "id": "1b9543e5",
   "metadata": {},
   "outputs": [],
   "source": [
    "cur.execute(sql)\n",
    "con.commit()"
   ]
  },
  {
   "cell_type": "code",
   "execution_count": 32,
   "id": "be961609",
   "metadata": {},
   "outputs": [],
   "source": [
    "cur.close()\n",
    "con.close()"
   ]
  },
  {
   "cell_type": "markdown",
   "id": "30f61e6d",
   "metadata": {},
   "source": [
    "### 4.4. Множественная вставка данных в таблицы БД"
   ]
  },
  {
   "cell_type": "code",
   "execution_count": 60,
   "id": "af7ef69c",
   "metadata": {},
   "outputs": [],
   "source": [
    "arr = [('1234567', 'ТАУ', 'Сидорова Е.Ю.', 4, '21.01.2023'),\n",
    "      ('7654321', 'ПО АС', 'Фомин Г.А.', 5, '25.12.2022')]"
   ]
  },
  {
   "cell_type": "code",
   "execution_count": 54,
   "id": "da32f53f",
   "metadata": {},
   "outputs": [],
   "source": [
    "con = sqlite3.connect('bd1.sqlite')"
   ]
  },
  {
   "cell_type": "code",
   "execution_count": 55,
   "id": "71518314",
   "metadata": {},
   "outputs": [],
   "source": [
    "cur = con.cursor()"
   ]
  },
  {
   "cell_type": "code",
   "execution_count": 62,
   "id": "793b5352",
   "metadata": {},
   "outputs": [],
   "source": [
    "sql = \"\"\"\\\n",
    "INSERT INTO sessija (id, Disz, Prepod, Ozenka, Dat)\n",
    "VALUES (?,?,?,?,?)\"\"\""
   ]
  },
  {
   "cell_type": "code",
   "execution_count": 63,
   "id": "6c8630f7",
   "metadata": {},
   "outputs": [
    {
     "data": {
      "text/plain": [
       "<sqlite3.Cursor at 0x1aea47179c0>"
      ]
     },
     "execution_count": 63,
     "metadata": {},
     "output_type": "execute_result"
    }
   ],
   "source": [
    "cur.executemany(sql, arr)"
   ]
  },
  {
   "cell_type": "code",
   "execution_count": 64,
   "id": "3276a65f",
   "metadata": {},
   "outputs": [],
   "source": [
    "con.commit()"
   ]
  },
  {
   "cell_type": "code",
   "execution_count": 65,
   "id": "457bc8f3",
   "metadata": {},
   "outputs": [],
   "source": [
    "cur.close()\n",
    "con.close()"
   ]
  },
  {
   "cell_type": "markdown",
   "id": "9112d47c",
   "metadata": {},
   "source": [
    "### 4.5. Чтение и отображение содержимого одной из таблиц в БД\n",
    "\n",
    "Создал и выполнил программу test3.py, позволяющую увидеть содержимое указанной таблицы в заданной БД.\n",
    "Записал программу в файл test3.py\n"
   ]
  },
  {
   "cell_type": "markdown",
   "id": "4b7fad54",
   "metadata": {},
   "source": [
    "### 4.6. Чтение данных из таблицы БД"
   ]
  },
  {
   "cell_type": "code",
   "execution_count": 66,
   "id": "8fdd8f07",
   "metadata": {},
   "outputs": [],
   "source": [
    "con = sqlite3.connect('bd1.sqlite')\n",
    "cur = con.cursor()"
   ]
  },
  {
   "cell_type": "code",
   "execution_count": 67,
   "id": "4f7a082b",
   "metadata": {},
   "outputs": [
    {
     "data": {
      "text/plain": [
       "<sqlite3.Cursor at 0x1aea474a840>"
      ]
     },
     "execution_count": 67,
     "metadata": {},
     "output_type": "execute_result"
    }
   ],
   "source": [
    "cur.execute('SELECT * FROM stud')"
   ]
  },
  {
   "cell_type": "code",
   "execution_count": 68,
   "id": "a601fed5",
   "metadata": {},
   "outputs": [],
   "source": [
    "ar = cur.fetchall()"
   ]
  },
  {
   "cell_type": "code",
   "execution_count": 70,
   "id": "9c7bac30",
   "metadata": {},
   "outputs": [],
   "source": [
    "cur.close()\n",
    "con.close()"
   ]
  },
  {
   "cell_type": "code",
   "execution_count": 71,
   "id": "510e93b1",
   "metadata": {},
   "outputs": [
    {
     "name": "stdout",
     "output_type": "stream",
     "text": [
      "[('20202343', 'ПЕРЕМЫШЛЕВ П.П.', 'peremyshlevpr@mpei.ru')]\n"
     ]
    }
   ],
   "source": [
    "print(ar)"
   ]
  },
  {
   "cell_type": "markdown",
   "id": "e07fb1e4",
   "metadata": {},
   "source": [
    "### 4.7. Получение списка таблиц в составе БД."
   ]
  },
  {
   "cell_type": "code",
   "execution_count": 73,
   "id": "7b27bb83",
   "metadata": {},
   "outputs": [],
   "source": [
    "con = sqlite3.connect('vuz.sqlite')"
   ]
  },
  {
   "cell_type": "code",
   "execution_count": 74,
   "id": "ff7c6460",
   "metadata": {},
   "outputs": [],
   "source": [
    "cur = con.cursor()"
   ]
  },
  {
   "cell_type": "code",
   "execution_count": 75,
   "id": "28c6d008",
   "metadata": {},
   "outputs": [],
   "source": [
    "sql = \"\"\"\\\n",
    "SELECT name FROM sqlite_master WHERE type IN ('table', 'view') AND\n",
    "name NOT LIKE 'sqlite_%' UNION ALL SELECT name FROM\n",
    "sqlite_temp_master WHERE type IN ('table', 'view') ORDER BY 1;\"\"\""
   ]
  },
  {
   "cell_type": "code",
   "execution_count": 76,
   "id": "d630b90f",
   "metadata": {},
   "outputs": [
    {
     "data": {
      "text/plain": [
       "<sqlite3.Cursor at 0x1aea4587e40>"
      ]
     },
     "execution_count": 76,
     "metadata": {},
     "output_type": "execute_result"
    }
   ],
   "source": [
    "cur.execute(sql)"
   ]
  },
  {
   "cell_type": "code",
   "execution_count": 77,
   "id": "4045871f",
   "metadata": {},
   "outputs": [],
   "source": [
    "con.commit()"
   ]
  },
  {
   "cell_type": "code",
   "execution_count": 78,
   "id": "6200922e",
   "metadata": {},
   "outputs": [
    {
     "data": {
      "text/plain": [
       "[('vuz_rf',), ('vuzkart',), ('vuzstat',)]"
      ]
     },
     "execution_count": 78,
     "metadata": {},
     "output_type": "execute_result"
    }
   ],
   "source": [
    "cur.fetchall()"
   ]
  },
  {
   "cell_type": "code",
   "execution_count": 79,
   "id": "90242f04",
   "metadata": {},
   "outputs": [],
   "source": [
    "cur.close()\n",
    "con.close()"
   ]
  },
  {
   "cell_type": "markdown",
   "id": "43c88ae7",
   "metadata": {},
   "source": [
    "### 4.8. Считывание информации о структуре таблицы, имеющейся в БД "
   ]
  },
  {
   "cell_type": "code",
   "execution_count": 80,
   "id": "ee1b903c",
   "metadata": {},
   "outputs": [],
   "source": [
    "con = sqlite3.connect('VUZ.sqlite')"
   ]
  },
  {
   "cell_type": "code",
   "execution_count": 81,
   "id": "fe8aadce",
   "metadata": {},
   "outputs": [],
   "source": [
    "def my_factory(c, r):\n",
    "    d = {}\n",
    "    \n",
    "    for i, name in enumerate(c.description):\n",
    "        d[name[0]] = r[i]\n",
    "        d[i] = r[i]\n",
    "        \n",
    "    return (d)"
   ]
  },
  {
   "cell_type": "code",
   "execution_count": 82,
   "id": "3b1484fe",
   "metadata": {},
   "outputs": [],
   "source": [
    "con.row_factory = my_factory"
   ]
  },
  {
   "cell_type": "code",
   "execution_count": 83,
   "id": "a72f7b43",
   "metadata": {},
   "outputs": [],
   "source": [
    "cur = con.cursor()"
   ]
  },
  {
   "cell_type": "code",
   "execution_count": 84,
   "id": "4dd583cd",
   "metadata": {},
   "outputs": [
    {
     "data": {
      "text/plain": [
       "<sqlite3.Cursor at 0x1aea47492c0>"
      ]
     },
     "execution_count": 84,
     "metadata": {},
     "output_type": "execute_result"
    }
   ],
   "source": [
    "cur.execute('SELECT * from vuzkart')"
   ]
  },
  {
   "cell_type": "code",
   "execution_count": 85,
   "id": "af7c53e6",
   "metadata": {},
   "outputs": [],
   "source": [
    "ar = cur.fetchone()"
   ]
  },
  {
   "cell_type": "code",
   "execution_count": 86,
   "id": "ce04b6e3",
   "metadata": {},
   "outputs": [],
   "source": [
    "cur.close()\n",
    "con.close()"
   ]
  },
  {
   "cell_type": "code",
   "execution_count": 87,
   "id": "5dbb7529",
   "metadata": {},
   "outputs": [],
   "source": [
    "fld_names = list(ar.keys())[::2]"
   ]
  },
  {
   "cell_type": "code",
   "execution_count": 88,
   "id": "7df01f6f",
   "metadata": {},
   "outputs": [
    {
     "name": "stdout",
     "output_type": "stream",
     "text": [
      "['codvuz', 'z1', 'z1full', 'z2', 'z2ustav', 'foundyear', 'z8', 'z9', 'z12', 'e_mail', 'www', 'z15', 'region', 'city', 'status', 'oblname', 'gr_ved', 'prof']\n"
     ]
    }
   ],
   "source": [
    "print(fld_names)"
   ]
  },
  {
   "cell_type": "markdown",
   "id": "62692d39",
   "metadata": {},
   "source": [
    "### 4.9. Ввод данных по запросу с клавиатуры  и занесение их в таблицу "
   ]
  },
  {
   "cell_type": "code",
   "execution_count": 89,
   "id": "2030ecff",
   "metadata": {},
   "outputs": [],
   "source": [
    "con = sqlite3.connect('bd1.sqlite')"
   ]
  },
  {
   "cell_type": "code",
   "execution_count": 90,
   "id": "aaa97544",
   "metadata": {},
   "outputs": [],
   "source": [
    "cur = con.cursor()"
   ]
  },
  {
   "cell_type": "code",
   "execution_count": 91,
   "id": "62709df9",
   "metadata": {},
   "outputs": [],
   "source": [
    "ar = []; vv = []"
   ]
  },
  {
   "cell_type": "code",
   "execution_count": 92,
   "id": "01e01301",
   "metadata": {},
   "outputs": [
    {
     "name": "stdout",
     "output_type": "stream",
     "text": [
      "Код зачетки студента = 20205674\n"
     ]
    }
   ],
   "source": [
    "vv.append(input('Код зачетки студента = '))"
   ]
  },
  {
   "cell_type": "code",
   "execution_count": 94,
   "id": "98142cee",
   "metadata": {},
   "outputs": [
    {
     "name": "stdout",
     "output_type": "stream",
     "text": [
      "ФИО студента = Кравцов\n"
     ]
    }
   ],
   "source": [
    "vv.append(input('ФИО студента = '))"
   ]
  },
  {
   "cell_type": "code",
   "execution_count": 95,
   "id": "89e9b9ae",
   "metadata": {},
   "outputs": [
    {
     "name": "stdout",
     "output_type": "stream",
     "text": [
      "e-mail студента = kravtsovda@mpei.ru\n"
     ]
    }
   ],
   "source": [
    "vv.append(input('e-mail студента = '))"
   ]
  },
  {
   "cell_type": "code",
   "execution_count": 96,
   "id": "d3ff66d5",
   "metadata": {},
   "outputs": [],
   "source": [
    "ar.append(tuple(vv))"
   ]
  },
  {
   "cell_type": "code",
   "execution_count": 97,
   "id": "f9996ae0",
   "metadata": {},
   "outputs": [
    {
     "name": "stdout",
     "output_type": "stream",
     "text": [
      "[('20205674', 'Кравцов', 'kravtsovda@mpei.ru')]\n"
     ]
    }
   ],
   "source": [
    "print(ar)"
   ]
  },
  {
   "cell_type": "code",
   "execution_count": 98,
   "id": "53df8630",
   "metadata": {},
   "outputs": [],
   "source": [
    "sql = 'INSERT INTO stud (id, fio, email) VALUES (?, ?, ?)'"
   ]
  },
  {
   "cell_type": "code",
   "execution_count": 99,
   "id": "91a6c7ef",
   "metadata": {},
   "outputs": [
    {
     "data": {
      "text/plain": [
       "<sqlite3.Cursor at 0x1aea47145c0>"
      ]
     },
     "execution_count": 99,
     "metadata": {},
     "output_type": "execute_result"
    }
   ],
   "source": [
    "cur.executemany(sql, ar)"
   ]
  },
  {
   "cell_type": "code",
   "execution_count": 100,
   "id": "f9f00a1d",
   "metadata": {},
   "outputs": [],
   "source": [
    "con.commit()"
   ]
  },
  {
   "cell_type": "code",
   "execution_count": 101,
   "id": "1b03ed4e",
   "metadata": {},
   "outputs": [
    {
     "data": {
      "text/plain": [
       "<sqlite3.Cursor at 0x1aea47145c0>"
      ]
     },
     "execution_count": 101,
     "metadata": {},
     "output_type": "execute_result"
    }
   ],
   "source": [
    "cur.execute('SELECT * FROM stud')"
   ]
  },
  {
   "cell_type": "code",
   "execution_count": 102,
   "id": "5b561540",
   "metadata": {},
   "outputs": [],
   "source": [
    "ar1 = cur.fetchall()"
   ]
  },
  {
   "cell_type": "code",
   "execution_count": 103,
   "id": "58a2ddfc",
   "metadata": {},
   "outputs": [
    {
     "name": "stdout",
     "output_type": "stream",
     "text": [
      "[('20202343', 'ПЕРЕМЫШЛЕВ П.П.', 'peremyshlevpr@mpei.ru'), ('20205674', 'Кравцов', 'kravtsovda@mpei.ru')]\n"
     ]
    }
   ],
   "source": [
    "print(ar1)"
   ]
  },
  {
   "cell_type": "code",
   "execution_count": 104,
   "id": "df87c8c3",
   "metadata": {},
   "outputs": [],
   "source": [
    "cur.close()\n",
    "con.close()"
   ]
  },
  {
   "cell_type": "code",
   "execution_count": null,
   "id": "c0a50bae",
   "metadata": {},
   "outputs": [],
   "source": []
  }
 ],
 "metadata": {
  "kernelspec": {
   "display_name": "Python 3 (ipykernel)",
   "language": "python",
   "name": "python3"
  },
  "language_info": {
   "codemirror_mode": {
    "name": "ipython",
    "version": 3
   },
   "file_extension": ".py",
   "mimetype": "text/x-python",
   "name": "python",
   "nbconvert_exporter": "python",
   "pygments_lexer": "ipython3",
   "version": "3.10.2"
  }
 },
 "nbformat": 4,
 "nbformat_minor": 5
}
